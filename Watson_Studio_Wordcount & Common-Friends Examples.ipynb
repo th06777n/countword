{
 "cells": [
  {
   "cell_type": "code",
   "execution_count": 71,
   "metadata": {
    "scrolled": true
   },
   "outputs": [
    {
     "data": {
      "text/plain": [
       "'2.3.3'"
      ]
     },
     "execution_count": 71,
     "metadata": {},
     "output_type": "execute_result"
    }
   ],
   "source": [
    "sc.version\n"
   ]
  },
  {
   "cell_type": "markdown",
   "metadata": {},
   "source": [
    "PART-1:  \"WORDCOUNT\" EXAMPLE USING MAPREDUCE"
   ]
  },
  {
   "cell_type": "code",
   "execution_count": 137,
   "metadata": {
    "scrolled": true
   },
   "outputs": [
    {
     "name": "stdout",
     "output_type": "stream",
     "text": [
      "--2019-10-22 00:58:00--  https://raw.githubusercontent.com/ibarabasi/wordcount/master/wordcount\n",
      "Resolving raw.githubusercontent.com (raw.githubusercontent.com)... 199.232.8.133\n",
      "Connecting to raw.githubusercontent.com (raw.githubusercontent.com)|199.232.8.133|:443... connected.\n",
      "HTTP request sent, awaiting response... 200 OK\n",
      "Length: 710 [text/plain]\n",
      "Saving to: 'wordcount'\n",
      "\n",
      "100%[======================================>] 710         --.-K/s   in 0s      \n",
      "\n",
      "2019-10-22 00:58:00 (38.9 MB/s) - 'wordcount' saved [710/710]\n",
      "\n",
      "Big data refers to the massive amount of data which cannot be stored, processed and analyzed using traditional ways.\n",
      "The main elements of big data are:\n",
      "Volume - There is a massive amount of data generated every second.\n",
      "Velocity - The speed at which data is generated, collected and analyzed\n",
      "Variety - The different types of data: structured, semi-structured, unstructured\n",
      "Value - The ability to turn data into useful insights for your business\n",
      "Veracity - Trustworthiness in terms of quality and accuracy\n",
      "The main challenges that big data faced and the solutions for each are listed below:\n",
      "Single central storage\n",
      "Serial processing\n",
      "One input\n",
      "One Output\n",
      "One Processor\n",
      "Lack of ability to process unstructured data\n"
     ]
    }
   ],
   "source": [
    "# Fetch the text file for wordcount example\n",
    "!wget https://raw.githubusercontent.com/ibarabasi/wordcount/master/wordcount\n",
    "!cat wordcount"
   ]
  },
  {
   "cell_type": "code",
   "execution_count": 142,
   "metadata": {},
   "outputs": [
    {
     "data": {
      "text/plain": [
       "['Big data refers to the massive amount of data which cannot be stored, processed and analyzed using traditional ways.',\n",
       " 'The main elements of big data are:',\n",
       " 'Volume - There is a massive amount of data generated every second.',\n",
       " 'Velocity - The speed at which data is generated, collected and analyzed',\n",
       " 'Variety - The different types of data: structured, semi-structured, unstructured',\n",
       " 'Value - The ability to turn data into useful insights for your business',\n",
       " 'Veracity - Trustworthiness in terms of quality and accuracy',\n",
       " 'The main challenges that big data faced and the solutions for each are listed below:',\n",
       " 'Single central storage',\n",
       " 'Serial processing',\n",
       " 'One input',\n",
       " 'One Output',\n",
       " 'One Processor',\n",
       " 'Lack of ability to process unstructured data']"
      ]
     },
     "execution_count": 142,
     "metadata": {},
     "output_type": "execute_result"
    }
   ],
   "source": [
    "#Simple example to read text file\n",
    "rdd0 = sc.textFile(\"wordcount\")\n",
    "rdd0.take(20)"
   ]
  },
  {
   "cell_type": "code",
   "execution_count": 143,
   "metadata": {},
   "outputs": [
    {
     "data": {
      "text/plain": [
       "[(1, 'refers'),\n",
       " (2, 'massive'),\n",
       " (2, 'amount'),\n",
       " (6, 'of'),\n",
       " (1, 'cannot'),\n",
       " (1, 'processed'),\n",
       " (1, 'using'),\n",
       " (1, 'traditional'),\n",
       " (5, 'The'),\n",
       " (1, 'are:'),\n",
       " (2, 'is'),\n",
       " (1, 'generated'),\n",
       " (1, 'second.'),\n",
       " (1, 'Velocity'),\n",
       " (1, 'speed'),\n",
       " (1, 'at'),\n",
       " (1, 'generated,'),\n",
       " (1, 'different'),\n",
       " (1, 'semi-structured,'),\n",
       " (1, 'Value'),\n",
       " (1, 'turn'),\n",
       " (1, 'into'),\n",
       " (1, 'useful'),\n",
       " (1, 'business'),\n",
       " (1, 'Veracity'),\n",
       " (1, 'in'),\n",
       " (1, 'quality'),\n",
       " (1, 'challenges'),\n",
       " (1, 'faced'),\n",
       " (1, 'are')]"
      ]
     },
     "execution_count": 143,
     "metadata": {},
     "output_type": "execute_result"
    }
   ],
   "source": [
    "word_counts = rdd0.flatMap(lambda line: line.split()).map(lambda word: (word, 1)).reduceByKey(lambda a, b: (a + b)).map(lambda x:(x[1],x[0]))\n",
    "\n",
    "word_counts.take(30)\n"
   ]
  },
  {
   "cell_type": "code",
   "execution_count": null,
   "metadata": {},
   "outputs": [],
   "source": []
  },
  {
   "cell_type": "markdown",
   "metadata": {},
   "source": [
    "PART-2:  \"COMMON FRIENDS\" EXAMPLE USINg MAPREDUCE"
   ]
  },
  {
   "cell_type": "code",
   "execution_count": 144,
   "metadata": {},
   "outputs": [
    {
     "name": "stdout",
     "output_type": "stream",
     "text": [
      "--2019-10-22 01:00:47--  https://raw.githubusercontent.com/ibarabasi/wordcount/master/friends\n",
      "Resolving raw.githubusercontent.com (raw.githubusercontent.com)... 151.101.48.133\n",
      "Connecting to raw.githubusercontent.com (raw.githubusercontent.com)|151.101.48.133|:443... connected.\n",
      "HTTP request sent, awaiting response... 200 OK\n",
      "Length: 193 [text/plain]\n",
      "Saving to: 'friends.2'\n",
      "\n",
      "100%[======================================>] 193         --.-K/s   in 0s      \n",
      "\n",
      "2019-10-22 01:00:47 (24.1 MB/s) - 'friends.2' saved [193/193]\n",
      "\n",
      "me Alice\n",
      "Henry me\n",
      "Henry Alice\n",
      "me Jane\n",
      "Alice John\n",
      "Jane John\n",
      "Judy Alice\n",
      "me Mary\n",
      "Mary Joyce\n",
      "Joyce Henry\n",
      "Judy me\n",
      "Judy Jane\n",
      "John Carol\n",
      "Carol me\n",
      "Mary Henry\n",
      "Louise Ronald\n",
      "Ronald Thomas\n",
      "William Thomas\n"
     ]
    }
   ],
   "source": [
    "# Load data from github\n",
    "!wget \"https://raw.githubusercontent.com/ibarabasi/wordcount/master/friends\"\n",
    "rdd = sc.textFile(\"friends\")\n",
    "!cat friends"
   ]
  },
  {
   "cell_type": "code",
   "execution_count": 109,
   "metadata": {},
   "outputs": [
    {
     "name": "stdout",
     "output_type": "stream",
     "text": [
      "me Alice\r\n",
      "Henry me\r\n",
      "Henry Alice\r\n",
      "me Jane\r\n",
      "Alice John\r\n",
      "Jane John\r\n",
      "Judy Alice\r\n",
      "me Mary\r\n",
      "Mary Joyce\r\n",
      "Joyce Henry\r\n",
      "Judy me\r\n",
      "Judy Jane\r\n",
      "John Carol\r\n",
      "Carol me\r\n",
      "Mary Henry\r\n",
      "Louise Ronald\r\n",
      "Ronald Thomas\r\n",
      "William Thomas\r\n"
     ]
    },
    {
     "data": {
      "text/plain": [
       "[['me', 'Alice'],\n",
       " ['Henry', 'me'],\n",
       " ['Henry', 'Alice'],\n",
       " ['me', 'Jane'],\n",
       " ['Alice', 'John'],\n",
       " ['Jane', 'John'],\n",
       " ['Judy', 'Alice'],\n",
       " ['me', 'Mary'],\n",
       " ['Mary', 'Joyce'],\n",
       " ['Joyce', 'Henry'],\n",
       " ['Judy', 'me'],\n",
       " ['Judy', 'Jane'],\n",
       " ['John', 'Carol'],\n",
       " ['Carol', 'me'],\n",
       " ['Mary', 'Henry'],\n",
       " ['Louise', 'Ronald'],\n",
       " ['Ronald', 'Thomas'],\n",
       " ['William', 'Thomas']]"
      ]
     },
     "execution_count": 109,
     "metadata": {},
     "output_type": "execute_result"
    }
   ],
   "source": [
    "!cat wordcount/friends\n",
    "# Build the first pair RDD\n",
    "rdd0 = rdd.map(lambda x: x.split())\n",
    "rdd0.take(20)"
   ]
  },
  {
   "cell_type": "code",
   "execution_count": 110,
   "metadata": {},
   "outputs": [
    {
     "name": "stdout",
     "output_type": "stream",
     "text": [
      "The stranger John has 3 common friends with me\n",
      "The stranger Joyce has 2 common friends with me\n"
     ]
    }
   ],
   "source": [
    "rdd1=rdd0.union(rdd.map(lambda x: x.split()[::-1]))\n",
    "# Bring my friend list to local\n",
    "lst = rdd1.filter(lambda x: x[0] == 'me').map(lambda x: x[1]).collect()\n",
    "# Build the second pair RDD\n",
    "rdd2 = rdd1.filter(lambda x: x[0] in lst).map(lambda x: x[1]). \\\n",
    "    filter(lambda x: x != 'me' and x not in lst). \\\n",
    "    map(lambda x: (x, 1)).reduceByKey(lambda a, b: a + b). \\\n",
    "    map(lambda x: (x[1], x[0])).sortByKey(ascending = False)\n",
    "# Bring the result to local since the sample is small\n",
    "for x, y in rdd2.collect():\n",
    "    print (\"The stranger {} has {} common friends with me\".format(y, x))\n"
   ]
  },
  {
   "cell_type": "code",
   "execution_count": null,
   "metadata": {},
   "outputs": [],
   "source": []
  }
 ],
 "metadata": {
  "kernelspec": {
   "display_name": "Python 3.6 with Spark",
   "language": "python3",
   "name": "python36"
  },
  "language_info": {
   "codemirror_mode": {
    "name": "ipython",
    "version": 3
   },
   "file_extension": ".py",
   "mimetype": "text/x-python",
   "name": "python",
   "nbconvert_exporter": "python",
   "pygments_lexer": "ipython3",
   "version": "3.6.8"
  }
 },
 "nbformat": 4,
 "nbformat_minor": 1
}
